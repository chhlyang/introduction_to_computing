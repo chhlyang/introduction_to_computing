{
 "cells": [
  {
   "cell_type": "markdown",
   "metadata": {},
   "source": [
    "## Orthogonal Polynomials\n",
    "\n",
    "If we define weight function $w(x) \\in C([-1,1])$ satisfying $w(x) >0, \\forall x \\in [-1,1]$ and $\\int_{-1} ^1 w(x) dx < \\infty$, then $w(x)$ gives an inner-product of function space on $[-1,1]$\n",
    "\n",
    "$$\n",
    "    (f,g)_w = \\int_{-1}^1 w(x)f(s)g(s) dx\n",
    "$$\n",
    "\n",
    "For given weight $w(x)$, call $P_0. P_1, \\cdots$ orthogonal polynomial, if $P_n$ is a degree-$n$ polynomial and $(P_i,P_j) = \\delta_{ij}$\n",
    "\n",
    "Note that we allow $w(x) \\to 0$ or $w(x)  \\to \\infty$, as $x \\to \\pm 1$.\n",
    "\n",
    "**Chebyshev Polynomials**, what we have learned in `chebshev_polynomials.ipynb` is one of the orthogonal polynomials, with weight \n",
    "$$\n",
    "    w(x) = \\frac{2}{\\pi \\sqrt{1 - x^2}}\n",
    "$$\n",
    "\n",
    "**Jacobic Weights** is defined \n",
    "\n",
    "$$\n",
    "    w(x) = (1 - x)^ \\alpha (1 + x) ^ \\beta,  \\alpha, \\beta > - 1\n",
    "$$\n",
    "\n",
    "We also define: as $\\alpha = \\beta = 0$, i.e. $w(x) = 1$, the orthogonal polynomial is then called  \n",
    "**Legendre Polynomials.**"
   ]
  }
 ],
 "metadata": {
  "kernelspec": {
   "display_name": "Julia 1.10.5",
   "language": "julia",
   "name": "julia-1.10"
  },
  "language_info": {
   "file_extension": ".jl",
   "mimetype": "application/julia",
   "name": "julia",
   "version": "1.10.5"
  }
 },
 "nbformat": 4,
 "nbformat_minor": 2
}
